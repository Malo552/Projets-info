{
  "nbformat": 4,
  "nbformat_minor": 0,
  "metadata": {
    "celltoolbar": "Aucun(e)",
    "kernelspec": {
      "display_name": "Python 3",
      "language": "python",
      "name": "python3"
    },
    "language_info": {
      "codemirror_mode": {
        "name": "ipython",
        "version": 3
      },
      "file_extension": ".py",
      "mimetype": "text/x-python",
      "name": "python",
      "nbconvert_exporter": "python",
      "pygments_lexer": "ipython3",
      "version": "3.7.4"
    },
    "colab": {
      "name": "Bon-notebook revu!.ipynb",
      "provenance": [],
      "collapsed_sections": []
    }
  },
  "cells": [
    {
      "cell_type": "markdown",
      "metadata": {
        "id": "FQc184aTWsfK",
        "colab_type": "text"
      },
      "source": [
        "# Comment tester le plus efficacement possible une population en cas d’épidémie ?\n"
      ]
    },
    {
      "cell_type": "markdown",
      "metadata": {
        "id": "x4251d04wp-0",
        "colab_type": "text"
      },
      "source": [
        "&nbsp;&nbsp;&nbsp;&nbsp; Pour notre projet de programmation, nous avons choisi de répondre à une question cruciale lors d’épidémies de grande ampleur, en nous interrogeant sur les **méthodes de dépistage qui permettraient d’utiliser le moins de tests possibles**. Le but est ainsi d’identifier les personnes contaminées, pour les isoler et empêcher la formation de nouveaux clusters.\n",
        "Nous sommes partis du constat que les **méthodes de « pooling »** menées en Allemagne pour détecter les patients atteints du Covid-19 étaient très efficaces. Ces méthodes consistent à rassembler des échantillons de plusieurs individus dans un seul tube. Si le résultat de l'analyse du *pool* est positif, alors au moins un individu est contaminé, et les échantillons sont donc testés individuellement.\n",
        "\n",
        "\n",
        "&nbsp;&nbsp;&nbsp;&nbsp;Nous avons mis en place **trois méthodes de « pooling »** : \n",
        "*   Le **pooling naïf**, qui consiste à regrouper les échantillons, les tester une première fois groupés, puis à les tester individuellement si le résultat est positif. \n",
        "*   Le **pooling en carré**, qui consiste à placer les échantillons de chaque individu dans une matrice, puis à tester chaque ligne et chaque colonne. Lorsque des pools sont positifs, on peut relier les informations et identifier la personne infectée, ou tester de nouveau s’il y a plusieurs lignes et colonnes positives. \n",
        "*   La **méthode par dichotomie**, qui consiste à diviser successivement par deux le groupe d'individus pour trouver les cas positifs.\n",
        "\n",
        "\n",
        "&nbsp;&nbsp;&nbsp;&nbsp;Pour retranscrire nos résultats, nous avons choisi de présenter, pour une population donnée, le nombre de tests nécessaires pour chacune des trois méthodes, en fonction du taux de contamination. Globalement, on observe que la méthode naïve est moins efficace que les méthodes plus avancées, mais sa simplicité constitue un avantage pratique.\n",
        "\n",
        "\n",
        "&nbsp;&nbsp;&nbsp;&nbsp;Un facteur clé à étudier pour mettre en pratique ces méthodes est la taille des pools choisie. En effet, regrouper les individus en pools de différentes tailles change grandement l'efficacité finale de la méthode. On peut donc s'intéresser à **la recherche de taille de pools optimales**, en fonction du taux d'infection. Intuitivement, on peut en effet voir que si une seule personne sur mille est touchée, rassembler les gens par pools de 2 sera très inefficace, et il vaudra mieux faire des pools plus grands. De même, si une personne sur 5 est touchée, faire des pools de 100 donne un résultat encore moins efficace que de tester tout le monde un à un.\n",
        "\n",
        "En calculant ces tailles de pools optimales pour la méthode naïve, on extrait une loi mathématique reliant taux de contamination et taille de pool, qui aide grandement au calcul de ces tailles optimales. \n",
        "\n",
        "\n",
        "&nbsp;&nbsp;&nbsp;&nbsp;Pour affiner nos modèles, nous avons décidé de prendre en compte les clusters (groupes séparés plus ou moins contaminés) et les regroupements en famille, comme lors d’un confinement. \n",
        "\n",
        "\n",
        "*   **les clusters** : pour une méthode donnée (ici le pooling simple), nous avons comparé le nombre de tests nécessaires pour le cas où l’on sépare le cluster de la population générale et pour le cas où l’on mélange les individus des deux populations dans les échantillons constituants les pools. Le résultat de l’algorithme nous montre qu’il est toujours préférable de tester ces groupes de manière séparée, sans les mélanger dans les échantillons avec le reste de la population.\n",
        "*   **les familles** : On suppose ici que les individus vivant ensemble ont de fortes chances de se transmettre le virus. Ainsi, adapter les méthodes de tests à cette hypothèse permet d'améliorer considérablement les performances des algorithmes de tests.\n"
      ]
    },
    {
      "cell_type": "markdown",
      "metadata": {
        "id": "x9q7A2NxWsfM",
        "colab_type": "text"
      },
      "source": [
        "## Les importations\n"
      ]
    },
    {
      "cell_type": "code",
      "metadata": {
        "id": "yr2dC2D9WsfO",
        "colab_type": "code",
        "colab": {}
      },
      "source": [
        "from math import floor, sqrt\n",
        "import matplotlib.pyplot as plt\n",
        "import numpy as np\n",
        "import random as rd"
      ],
      "execution_count": 0,
      "outputs": []
    },
    {
      "cell_type": "markdown",
      "metadata": {
        "id": "_vQot6xLWsfV",
        "colab_type": "text"
      },
      "source": [
        "## Quelques réglages en fonction des données sur l'épidémie"
      ]
    },
    {
      "cell_type": "code",
      "metadata": {
        "id": "9_S1aiYgWsfX",
        "colab_type": "code",
        "colab": {}
      },
      "source": [
        "N = 10000 # nombre d'individus\n",
        "p = 1e-2 # taux de contamination\n",
        "tests = 0\n",
        "gens = [rd.choices([0,1], [1-p, p])[0] for i in range(N)] # liste des individus"
      ],
      "execution_count": 0,
      "outputs": []
    },
    {
      "cell_type": "markdown",
      "metadata": {
        "id": "GyCKJwvWWsfa",
        "colab_type": "text"
      },
      "source": [
        "# I] Les trois principales méthodes de pooling"
      ]
    },
    {
      "cell_type": "markdown",
      "metadata": {
        "id": "AyHWYBg6Wsfb",
        "colab_type": "text"
      },
      "source": [
        "### 1) Le test par pooling naïf, ou pooling simple"
      ]
    },
    {
      "cell_type": "markdown",
      "metadata": {
        "id": "N0iLZyY1XP4G",
        "colab_type": "text"
      },
      "source": [
        "Après avoir fait des groupes de Np individus, on teste l'echantillon du groupe entier pour savoir si au moins une personne est contaminée. Si c'est le cas, on teste individuellement chaque individu du groupe."
      ]
    },
    {
      "cell_type": "code",
      "metadata": {
        "id": "em4FVi5rWsfc",
        "colab_type": "code",
        "outputId": "ed1d9ec2-a8b1-4f78-8031-e8ca16a20ffc",
        "colab": {
          "base_uri": "https://localhost:8080/",
          "height": 51
        }
      },
      "source": [
        "def simplepools(Np, p, gens=gens, N=N, tests=tests): # Np=taille des pools, p taux de contamination\n",
        "    gens = [rd.choices([0,1], [1-p, p])[0] for i in range(N)]\n",
        "    tests = 0\n",
        "    N = len(gens)\n",
        "    for i in range(N//Np):\n",
        "        tests += 1\n",
        "        if 1 in gens[Np*i:Np*(i+1)]: # on teste les Np individus rassemblés\n",
        "            for i in range(Np*i, Np*(i+1)):\n",
        "                tests += 1 # si pool positif, on les teste tous\n",
        "    if N%Np != 0: # s'il reste des gens à la fin\n",
        "        lasts = gens[Np*(N//Np):]\n",
        "        tests += 1\n",
        "        if len(lasts) > 1:\n",
        "            if 1 in lasts: # on fait un pool avec tous ces gens\n",
        "                tests += len(lasts)\n",
        "    return(100*tests/len(gens)) # on renvoie le taux de tests par rapport à la taille de la population\n",
        "\n",
        "res = round(simplepools(11, 0.01),2)\n",
        "print(res)\n",
        "print('Lecture : on peut tester 100 personnes en effectuant seulement {} tests en moyenne'.format(res))"
      ],
      "execution_count": 0,
      "outputs": [
        {
          "output_type": "stream",
          "text": [
            "20.32\n",
            "Lecture : on peut tester 100 personnes en effectuant seulement 20.32 tests en moyenne\n"
          ],
          "name": "stdout"
        }
      ]
    },
    {
      "cell_type": "markdown",
      "metadata": {
        "id": "uSQmKjN3Wsfj",
        "colab_type": "text"
      },
      "source": [
        "### 2) Le pooling en carré"
      ]
    },
    {
      "cell_type": "markdown",
      "metadata": {
        "id": "CZW2jMfct8vS",
        "colab_type": "text"
      },
      "source": [
        "![Schema carrés](https://i.imgur.com/MqXWJRc.png)"
      ]
    },
    {
      "cell_type": "code",
      "metadata": {
        "id": "_ymn4R8SWsfj",
        "colab_type": "code",
        "outputId": "7b0f97d2-69a3-4dfc-e5ce-29782cd9c51c",
        "colab": {
          "base_uri": "https://localhost:8080/",
          "height": 51
        }
      },
      "source": [
        "sq = 10\n",
        "\n",
        "def testmat(gens=gens, sq=sq, tests=tests):# fonction qui traite une matrice sq*sq\n",
        "    col = []\n",
        "    lin = []\n",
        "    for i in range(sq):\n",
        "        tests += 1\n",
        "        if 1 in gens[i]: # on teste toute la ligne\n",
        "            lin.append(i)\n",
        "    if lin != []: # on continue que si il y a au moins un cas positif\n",
        "        for j in range(sq):\n",
        "            if 1 in gens[:, j]: # on teste toute la colonne\n",
        "                col.append(j)\n",
        "    if len(lin) == 1 or len(col) == 1: # si une seule ligne positive, on peut conclure\n",
        "        return(tests)\n",
        "    else:\n",
        "        possibles = []\n",
        "        for i in lin:\n",
        "            for j in col:\n",
        "                possibles.append((i, j)) # on ajoute aux possibles les intersections\n",
        "        for i in possibles:\n",
        "            tests += 1 #on fait un test par intersection (les ? dans le schéma)\n",
        "    return(tests)\n",
        "\n",
        "def mat_to_list(i): # donner le numéro dans la liste d'un élément d'une matrice\n",
        "    return(10*i[0]+i[1])\n",
        "\n",
        "def squarepools(sq, p, N=N): # fonction qui traite toute la liste en appelant successivement testmat\n",
        "    gens = [rd.choices([0,1], [1-p,p])[0] for i in range(N)]\n",
        "    Np = sq**2 # sq la taille du coté, Np la taille du pool\n",
        "    pools = int(N/Np)\n",
        "    tests = 0\n",
        "    for k in range(pools):\n",
        "        square = np.reshape(gens[Np*k:Np*(k+1)], (sq,sq)) # on fait une matrice carré sq*sq\n",
        "        t = testmat(square, sq)\n",
        "        tests += t\n",
        "    if N%Np != 0: # s'il reste des gens\n",
        "        fin = gens[Np*pools:]\n",
        "        testsfin = annexe(10, fin) # on utilise le pooling naïf sur la fin\n",
        "        tests += testsfin\n",
        "    return(100*tests/len(gens))\n",
        "\n",
        "def annexe(Np, gens=gens): # Fonction annexe pour faire du pooling naïf dans les autres fonctions\n",
        "    anntests = 0\n",
        "    N = len(gens)\n",
        "    for i in range(N//Np):\n",
        "        anntests += 1\n",
        "        if 1 in gens[Np*i:Np*(i+1)]: # on teste les Np individus rassemblés\n",
        "            for i in range(Np*i,Np*(i+1)):\n",
        "                anntests += 1 # si pool positif, on les teste tous\n",
        "    if N%Np != 0: # s'il reste des gens à la fin\n",
        "        lasts = gens[Np*(N//Np):]\n",
        "        anntests += 1\n",
        "        if len(lasts) > 1:\n",
        "            if 1 in lasts: # on fait un pool avec tous ces gens\n",
        "                anntests += len(lasts)\n",
        "    return(anntests)\n",
        "\n",
        "res = round(squarepools(10, 0.01), 2)\n",
        "print(res)\n",
        "print('Lecture : on peut tester 100 personnes en effectuant seulement {} tests en moyenne'.format(res))"
      ],
      "execution_count": 0,
      "outputs": [
        {
          "output_type": "stream",
          "text": [
            "11.0\n",
            "Lecture : on peut tester 100 personnes en effectuant seulement 11.0 tests en moyenne\n"
          ],
          "name": "stdout"
        }
      ]
    },
    {
      "cell_type": "markdown",
      "metadata": {
        "id": "BVC0UTHjQ82U",
        "colab_type": "text"
      },
      "source": [
        "On observe que cette méthode est bien plus efficace que la dernière, permettant de diviser par presque 10 le nombre de tests nécessités."
      ]
    },
    {
      "cell_type": "markdown",
      "metadata": {
        "id": "e2L6UlRTWsfn",
        "colab_type": "text"
      },
      "source": [
        "### 3) Le pooling par dichotomie"
      ]
    },
    {
      "cell_type": "markdown",
      "metadata": {
        "id": "VynOMoU3aep4",
        "colab_type": "text"
      },
      "source": [
        "![Schéma du fonctionnement du pooling par dichotomie](https://members.loria.fr/ADeleforge/wp-content/blogs.dir/192/files/sites/192/2020/04/pool-testing1-768x628.png)"
      ]
    },
    {
      "cell_type": "markdown",
      "metadata": {
        "id": "tEE4UotVa7eH",
        "colab_type": "text"
      },
      "source": [
        "Schéma du fonctionnement du pooling par dichotomie ( [source: Antoine Deleforge,  LORIA](https://members.loria.fr/ADeleforge/les-maths-du-group-testing-melanger-des-prelevements-pour-accelerer-la-detection-du-covid-19/) )\n",
        "\n",
        "Remarque: On n'a pas besoin de tester le pool 5, car le pool 4 est négatif, on est ainsi sur que le/les cas positifs se trouvent dans le reste des échantillons."
      ]
    },
    {
      "cell_type": "code",
      "metadata": {
        "id": "tL-2b-xhWsfo",
        "colab_type": "code",
        "outputId": "6be82da4-237b-49b7-96bb-e11d1d717613",
        "colab": {
          "base_uri": "https://localhost:8080/",
          "height": 51
        }
      },
      "source": [
        "def dichotest(gens): # test un pool de 2^k gens recursivement\n",
        "    if len(gens) == 1 or max(gens) == 0:\n",
        "        return(1)\n",
        "    else:\n",
        "        l = len(gens)\n",
        "        if max(gens[:l//2]) == 0:\n",
        "            return(dichotest(gens[l//2:]) + 1)\n",
        "        else:\n",
        "            return(dichotest(gens[l//2:]) + dichotest(gens[:l//2]) + 1)\n",
        "        \n",
        "def dichopools(k, p, N=N): # on appelle dichotest successivement, pools de 2**k gens, taux de contamination p\n",
        "    Np = 2**k\n",
        "    pools = N//2**k\n",
        "    tests = 0\n",
        "    gens = [rd.choices([0,1], [1-p,p])[0] for i in range(N)]\n",
        "    for i in range(pools):\n",
        "        tests += dichotest(gens[Np*i:Np*(i+1)])\n",
        "    if N%(2**k) != 0: # Si la taille de la population n'est pas un multiple de Np, on traite la fin avec annexe\n",
        "        fin = gens[Np*pools:]\n",
        "        testsfin = annexe(10, fin)\n",
        "        tests += testsfin\n",
        "    return(100*tests/len(gens))\n",
        "\n",
        "res = round(dichopools(6, 0.01),2)\n",
        "print(res)\n",
        "print('Lecture : on peut tester 100 personnes en effectuant seulement {} tests en moyenne'.format(res))"
      ],
      "execution_count": 0,
      "outputs": [
        {
          "output_type": "stream",
          "text": [
            "8.95\n",
            "Lecture : on peut tester 100 personnes en effectuant seulement 8.95 tests en moyenne\n"
          ],
          "name": "stdout"
        }
      ]
    },
    {
      "cell_type": "markdown",
      "metadata": {
        "id": "RQ8Zo22vR-Is",
        "colab_type": "text"
      },
      "source": [
        "On voit que le résultat est encore meilleur, avec yne efficacité plus que décuplée. Cependant, cette méthode est plus dure à appliquer en pratique. En effet, dans ce cas ci, elle nécessite de faire des pools de 64 personnes, ce qui ne permet pas toujours une détection de chaque cas, les échantillons individuels étant trop dilués."
      ]
    },
    {
      "cell_type": "markdown",
      "metadata": {
        "id": "46vKWcF2Wsfs",
        "colab_type": "text"
      },
      "source": [
        "# II] Les résultats des tests en graphique"
      ]
    },
    {
      "cell_type": "markdown",
      "metadata": {
        "id": "8QtF3B4ZWsfs",
        "colab_type": "text"
      },
      "source": [
        "### 1) Les résultats du pooling simple en fonction du taux de contamination et de la taille des pools"
      ]
    },
    {
      "cell_type": "code",
      "metadata": {
        "id": "DXgBMajoWsfu",
        "colab_type": "code",
        "outputId": "74ec5a88-7662-4b49-99ab-a896f699ae9e",
        "colab": {
          "base_uri": "https://localhost:8080/",
          "height": 317
        }
      },
      "source": [
        "def efficacite_func(func): # Une fonction pour différents p et Np\n",
        "    minpool = 2\n",
        "    maxpool = 24\n",
        "    pools = [int(1.5**Np) for Np in range(minpool, maxpool)] # echantillon de tailles de pools pour graphique semi-log\n",
        "    ntest = []\n",
        "    print('taille des pools:', pools)\n",
        "    a=[]\n",
        "    for p in range(4):\n",
        "        ntest = []\n",
        "        for Np in pools:\n",
        "            ntest.append(func(Np, 10**(-p-1)))\n",
        "        a.append(ntest)\n",
        "    for i in range(4):\n",
        "        plt.plot(pools, a[i], label = 'taux 1e-{}'.format(i+1))\n",
        "    plt.xscale('log')\n",
        "    plt.ylabel('nombre de tests nécessaires')\n",
        "    plt.xlabel('taille des pools')\n",
        "    plt.legend(loc = 'best')\n",
        "    plt.show()\n",
        "    return()\n",
        "\n",
        "efficacite_func(simplepools)"
      ],
      "execution_count": 0,
      "outputs": [
        {
          "output_type": "stream",
          "text": [
            "taille des pools: [2, 3, 5, 7, 11, 17, 25, 38, 57, 86, 129, 194, 291, 437, 656, 985, 1477, 2216, 3325, 4987, 7481, 11222]\n"
          ],
          "name": "stdout"
        },
        {
          "output_type": "display_data",
          "data": {
            "image/png": "[encoded data removed]",
            "text/plain": [
              "<Figure size 432x288 with 1 Axes>"
            ]
          },
          "metadata": {
            "tags": [],
            "needs_background": "light"
          }
        },
        {
          "output_type": "execute_result",
          "data": {
            "text/plain": [
              "()"
            ]
          },
          "metadata": {
            "tags": []
          },
          "execution_count": 101
        }
      ]
    },
    {
      "cell_type": "markdown",
      "metadata": {
        "id": "TOICWB-YchHs",
        "colab_type": "text"
      },
      "source": [
        "Lecture : Pour un taux de contamination de 1%, en choisissant des pools de 11 personnes, on peut tester 100 personnes en environ 20 tests"
      ]
    },
    {
      "cell_type": "markdown",
      "metadata": {
        "id": "I5af4L_UWsfy",
        "colab_type": "text"
      },
      "source": [
        "### 2) Comparaison  sur  l'efficacité des différentes sorte de pooling en fonction de la taille des pools"
      ]
    },
    {
      "cell_type": "code",
      "metadata": {
        "id": "_tUT8QtiWsfz",
        "colab_type": "code",
        "outputId": "f7acb35c-0e13-498b-d8d3-17549c6c06c6",
        "colab": {
          "base_uri": "https://localhost:8080/",
          "height": 368
        }
      },
      "source": [
        "def comparer_funcs(p): # les trois fonctions pour un taux de contamination et (différentes tailles de pools)\n",
        "    minpool = 2\n",
        "    maxpool = 16\n",
        "    pools = [int(1.4**Np) for Np in range(minpool, maxpool)]\n",
        "    # pools=range(minpool,maxpool)\n",
        "    ntest = []\n",
        "    for func in [simplepools, squarepools, dichopools]:\n",
        "        ntest = []\n",
        "        for Np in pools:\n",
        "            ntest.append(func(Np, p))\n",
        "        plt.plot(pools, ntest, label = '{}'.format(func.__name__)) \n",
        "        print('Le nombre de tests mininimum pour ' + str(func.__name__) + ' est ' + str(round(min(ntest),2)))\n",
        "    plt.xscale('log')\n",
        "    plt.ylabel('nombre de tests nécessaires')\n",
        "    plt.xlabel('taille des pools')\n",
        "    plt.legend(loc = 'best')\n",
        "    print('taille des pools:', pools)\n",
        "    plt.show()\n",
        "    return()\n",
        "\n",
        "comparer_funcs(0.01)"
      ],
      "execution_count": 0,
      "outputs": [
        {
          "output_type": "stream",
          "text": [
            "Le nombre de tests mininimum pour simplepools est 20.0\n",
            "Le nombre de tests mininimum pour squarepools est 8.8\n",
            "Le nombre de tests mininimum pour dichopools est 10.74\n",
            "taille des pools: [1, 2, 3, 5, 7, 10, 14, 20, 28, 40, 56, 79, 111, 155]\n"
          ],
          "name": "stdout"
        },
        {
          "output_type": "display_data",
          "data": {
            "image/png": "[encoded data removed]",
            "text/plain": [
              "<Figure size 432x288 with 1 Axes>"
            ]
          },
          "metadata": {
            "tags": [],
            "needs_background": "light"
          }
        },
        {
          "output_type": "execute_result",
          "data": {
            "text/plain": [
              "()"
            ]
          },
          "metadata": {
            "tags": []
          },
          "execution_count": 102
        }
      ]
    },
    {
      "cell_type": "markdown",
      "metadata": {
        "id": "6vOd8eoXe32g",
        "colab_type": "text"
      },
      "source": [
        "Lecture: La fonction squarepools atteint une efficacité de 9% avec des pools de taille 16.\n",
        "\n",
        "Remarque: la fonction dichopools atteint un plateau. En effet, quand Np est trop grand, on a $2^{Np} > N$, donc on ne peut pas faire de pool et toute la liste est traitée avec le pooling naïf, qui a une efficacité autour de 20%.\n",
        "\n",
        "Le même phénomène est observé avec la fonction squarepools, mais pour des Np plus grands ($Np^2 > N$)."
      ]
    },
    {
      "cell_type": "markdown",
      "metadata": {
        "id": "qx3812OrMqqX",
        "colab_type": "text"
      },
      "source": [
        "# III] Optimisation de la taille des pools pour la méthode naïve"
      ]
    },
    {
      "cell_type": "markdown",
      "metadata": {
        "id": "u3mB2O0yEkMK",
        "colab_type": "text"
      },
      "source": [
        "Pour toutes les méthodes qui rassemblent un certains nombre d'individus, on a vu dans les graphiques que la taille de pool choisie influence grandement le résultat. C'est pourquoi il est utile de trouver, pour chaque fonction, et pour un taux de contamination donné, **la taille de pool optimale à utiliser en pratique.**\n",
        "\n",
        "Pour trouver ce minimum, on utilise ici une méthode assez simple et peu efficace constistant à tester toutes les tailles de pools jusqu'à observer une efficacité qui diminue significativement. En effet, les courbes \"*efficacité en fonction de Np*\" sont initialement concave, avec une partie decroissante puis une partie croissante. Il est donc simple d'opérer en s'arrêtant une fois ce creux atteint. Pour être sûr d'avoir trouvé le minimum et non une section croissante simplement due à une coincidence, on continue un peu après le creux trouvé."
      ]
    },
    {
      "cell_type": "code",
      "metadata": {
        "id": "cFs-yMV0Wsgx",
        "colab_type": "code",
        "outputId": "fab1a9dd-2134-4b33-c161-58c3ea3a7140",
        "colab": {
          "base_uri": "https://localhost:8080/",
          "height": 313
        }
      },
      "source": [
        "from math import inf\n",
        "\n",
        "def optipool(p, func, graph = False): # trouve la meilleure taille de pool pour un taux p, func=dichopools, squarepools, simplepools\n",
        "    mini = inf\n",
        "    minp = 1\n",
        "    courbe=[]\n",
        "    for i in range(1,100): \n",
        "        s = func(i, p)\n",
        "        courbe.append(s)\n",
        "        if s < mini:\n",
        "            mini = s\n",
        "            minp = i\n",
        "        if s > mini+2: # seuil de sensibilité\n",
        "            if graph: #on affiche ou non la courbe, pour pouvoir réutiliser ça après\n",
        "              plt.plot(range(1, len(courbe)+1), courbe, color='blue')\n",
        "              plt.ylabel('nombre de tests nécessaires')\n",
        "              plt.xlabel('taille de pool')\n",
        "              plt.axvline(minp, color='red')\n",
        "              plt.show\n",
        "            return(minp)\n",
        "    return(minp)\n",
        "func=simplepools\n",
        "a=optipool(0.02, func, True)\n",
        "print(a)\n",
        "print('Lecture: Pour un taux de positifs de 2%, il faut choisir des pools de taille 2^{} pour utiliser la fonction {} optimalement'.format(a,func.__name__))"
      ],
      "execution_count": 0,
      "outputs": [
        {
          "output_type": "stream",
          "text": [
            "7\n",
            "Lecture: Pour un taux de positifs de 2%, il faut choisir des pools de taille 2^7 pour utiliser la fonction simplepools optimalement\n"
          ],
          "name": "stdout"
        },
        {
          "output_type": "display_data",
          "data": {
            "image/png": "[encoded data removed]",
            "text/plain": [
              "<Figure size 432x288 with 1 Axes>"
            ]
          },
          "metadata": {
            "tags": [],
            "needs_background": "light"
          }
        }
      ]
    },
    {
      "cell_type": "markdown",
      "metadata": {
        "id": "wMJKS2X3kqM9",
        "colab_type": "text"
      },
      "source": [
        "Cette méthode n'est pas la plus efficace, mais elle trouve bien le minimum. Cependant, à cause de la nature aléatoire de la génération de la population, le résultat varie légèrement entre chaque calcul. On voit que ce n'est pas très grave, car la courbe est généralement assez plate autour du minimum, ce qui indique que même si l'on est pas exactement au minimum, on a à peu près la même efficacité."
      ]
    },
    {
      "cell_type": "code",
      "metadata": {
        "id": "ZAdFk3yFHebA",
        "colab_type": "code",
        "outputId": "9b38a8c4-574f-4cee-b871-e89e219a86a7",
        "colab": {
          "base_uri": "https://localhost:8080/",
          "height": 300
        }
      },
      "source": [
        "taux = [.2, .1, .05, .01, .005, .001, .0001] #on choisit un echantillon de taux\n",
        "N=1000 # on prend un N petit car sinon la méthode est trop lente, mais on y perd en précision\n",
        "def optigen(taux, func): # on calcule le Np optimal pour tous ces taux\n",
        "    optis = []\n",
        "    for p in taux:\n",
        "        optis.append(optipool(p, func))\n",
        "    return(optis)\n",
        "op = optigen(taux,simplepools)\n",
        "plt.yscale('log')\n",
        "plt.xscale('log')\n",
        "plt.plot(taux, op)\n",
        "plt.ylabel('taille de pool optimale')\n",
        "plt.xlabel('taux de contamination')\n",
        "plt.show()"
      ],
      "execution_count": 0,
      "outputs": [
        {
          "output_type": "display_data",
          "data": {
            "image/png": "[encoded data removed]",
            "text/plain": [
              "<Figure size 432x288 with 1 Axes>"
            ]
          },
          "metadata": {
            "tags": [],
            "needs_background": "light"
          }
        },
        {
          "output_type": "execute_result",
          "data": {
            "text/plain": [
              "[3, 4, 7, 10, 12, 26, 66]"
            ]
          },
          "metadata": {
            "tags": []
          },
          "execution_count": 103
        }
      ]
    },
    {
      "cell_type": "markdown",
      "metadata": {
        "id": "xd-BwmH9IKef",
        "colab_type": "text"
      },
      "source": [
        "On observe une courbe quasi linéaire, ce qui suggère qu'il existerait une relation linéaire entre le log du Np optimal et le log du taux de contamination. De plus, la courbe varie considérablement entre les exécutions: cela vient des variations du Np optimal entre chaque exécution.\n",
        "\n",
        "Comme la courbe est proche d'une droite, il est intéressant d'effectuer une régression linéaire sur ces données pour tenter de trouver une relation intrinsèque entre les tailles de pools optimales et le taux de contamination.\n",
        "\n"
      ]
    },
    {
      "cell_type": "code",
      "metadata": {
        "id": "tgxd_WM-Gcge",
        "colab_type": "code",
        "outputId": "136705b2-ff77-4f66-beee-08b54d3ffbff",
        "colab": {
          "base_uri": "https://localhost:8080/",
          "height": 319
        }
      },
      "source": [
        "bonsNp = [3, 4, 5, 12, 17, 32, 86] # tailles obtenues avec N = 100 000\n",
        "#On utilise ces données car elles sont plus précises que celles obtenues avec N=1000, ceci accélère le processus\n",
        "from scipy.stats import linregress\n",
        "from math import log, exp\n",
        "tauxlog = [log(x) for x in taux]\n",
        "Nplog = [log(y) for y in bonsNp]\n",
        "slope, intercept, r_value, p_value, std_err = linregress(tauxlog, Nplog)\n",
        "print('r**2 = ', round(r_value**2, 5))\n",
        "print('p valeur = ', p_value)\n",
        "x=np.linspace(1e-4, .2)\n",
        "y=[exp(slope*log(i) + intercept) for i in x]\n",
        "plt.plot(x, y, label = 'régression linéaire')\n",
        "plt.plot(taux, bonsNp, label = 'données théoriques')\n",
        "plt.yscale('log')\n",
        "plt.xscale('log')\n",
        "plt.legend(loc = 'best')\n",
        "\n",
        "plt.ylabel('taille de pool optimale')\n",
        "plt.xlabel('taux de contamination')\n",
        "plt.show()"
      ],
      "execution_count": 0,
      "outputs": [
        {
          "output_type": "stream",
          "text": [
            "r**2 =  0.99738\n",
            "p valeur =  1.195595538861953e-07\n"
          ],
          "name": "stdout"
        },
        {
          "output_type": "display_data",
          "data": {
            "image/png": "[encoded data removed]",
            "text/plain": [
              "<Figure size 432x288 with 1 Axes>"
            ]
          },
          "metadata": {
            "tags": [],
            "needs_background": "light"
          }
        }
      ]
    },
    {
      "cell_type": "markdown",
      "metadata": {
        "id": "MU_BYxIHra4A",
        "colab_type": "text"
      },
      "source": [
        "\n",
        "\n",
        "On voit que la regression linéaire est extrêmement précise: on a un $r^2$ de 0,997, très proche de 1, et une p-valeur de $1.2*10^{-7}$, ce qui est quasi nul. Ainsi, ceci suggère qu'il existe en effet, pour le cas du pooling naïf, une relation mathématique linéaire entre le log du Np optimal et le log du taux de contamination.\n",
        "\n",
        "Ces résultats peuvent donc être utilisés pour nous donner instantanément la taille de pool à utiliser en fonction du taux de positifs observé, avec la fonction suivante.\n",
        "\n"
      ]
    },
    {
      "cell_type": "code",
      "metadata": {
        "id": "cyrqv5_KKl52",
        "colab_type": "code",
        "outputId": "47c77950-dcc7-49a7-83d8-c8d75069c03d",
        "colab": {
          "base_uri": "https://localhost:8080/",
          "height": 34
        }
      },
      "source": [
        "def pool_optimal(p):\n",
        "  Np=exp(slope*log(p) + intercept)\n",
        "  return(int(round(Np)))\n",
        "\n",
        "\n",
        "print('taille de pool optimale pour un taux de contamination de 1%:', pool_optimal(.01))"
      ],
      "execution_count": 0,
      "outputs": [
        {
          "output_type": "stream",
          "text": [
            "taille de pool optimale pour un taux de contamination de 1%: 11\n"
          ],
          "name": "stdout"
        }
      ]
    },
    {
      "cell_type": "markdown",
      "metadata": {
        "id": "tMSaBzJyVY_q",
        "colab_type": "text"
      },
      "source": [
        "Test unitaire du succés de la regression linéaire"
      ]
    },
    {
      "cell_type": "code",
      "metadata": {
        "id": "XTUNFfruVXrF",
        "colab_type": "code",
        "outputId": "18ea8800-d411-419a-b3a6-e3fa875e18fc",
        "colab": {
          "base_uri": "https://localhost:8080/",
          "height": 102
        }
      },
      "source": [
        "import unittest\n",
        "\n",
        "class TestStringMethods(unittest.TestCase):\n",
        "\n",
        "    def test_pool_optimal(self):\n",
        "      self.assertEqual(pool_optimal(0.01), 11)\n",
        "\n",
        "if __name__ == '__main__':\n",
        "    unittest.main(argv=['first-arg-is-ignored'], exit=False)\n"
      ],
      "execution_count": 0,
      "outputs": [
        {
          "output_type": "stream",
          "text": [
            ".\n",
            "----------------------------------------------------------------------\n",
            "Ran 1 test in 0.001s\n",
            "\n",
            "OK\n"
          ],
          "name": "stderr"
        }
      ]
    },
    {
      "cell_type": "markdown",
      "metadata": {
        "id": "Ld6GnBJdWsf9",
        "colab_type": "text"
      },
      "source": [
        "# VI] Comment prendre en compte les clusters?"
      ]
    },
    {
      "cell_type": "markdown",
      "metadata": {
        "id": "wf8_ITQQWsf-",
        "colab_type": "text"
      },
      "source": [
        "### Quelques réglages"
      ]
    },
    {
      "cell_type": "code",
      "metadata": {
        "id": "CSDC3a0-Wsf_",
        "colab_type": "code",
        "colab": {}
      },
      "source": [
        "N1 = 50000 # nombre d'individus du groupe 1 (= pop générale)\n",
        "N2 = 1000 # nombre d'individus du groupe 2 (cluster)\n",
        "N = N1 + N2 # pop totale\n",
        "p1 = 0.01 # taux de contamination du groupe 1\n",
        "p2 = 0.2 # taux de contamination du groupe 2\n",
        "tests = 0\n",
        "gens1 = [rd.choices([0,1], [1-p1,p1])[0] for i in range(N1)] # liste des gens du groupe 1\n",
        "gens2 = [rd.choices([0,1], [1-p2,p2])[0] for i in range(N2)] # liste des gens du groupe 2\n",
        "Np1 = pool_optimal(p1) # La taille des pools, obtenue avec la regression linéaire\n",
        "Np2 = pool_optimal(p2)"
      ],
      "execution_count": 0,
      "outputs": []
    },
    {
      "cell_type": "markdown",
      "metadata": {
        "id": "7xLSn6ZwWsgD",
        "colab_type": "text"
      },
      "source": [
        "### 1) Le pooling simple en mélangeant les individus des deux groupes"
      ]
    },
    {
      "cell_type": "code",
      "metadata": {
        "id": "3kJoWLHsWsgE",
        "colab_type": "code",
        "outputId": "f7871e44-9734-4cdf-9d8d-c08ecdd47690",
        "colab": {
          "base_uri": "https://localhost:8080/",
          "height": 51
        }
      },
      "source": [
        "def melange_groupe (Np, gens1, gens2):\n",
        "    gens = gens1 + gens2 \n",
        "    rd.shuffle(gens) # mélange des deux populations\n",
        "    tests = 0\n",
        "    for i in range(N//Np):\n",
        "        tests += 1\n",
        "        if max(gens[Np*i:Np*(i+1)]) == 1: # on teste tous individus rassemblés dans les pools\n",
        "            for i in range(Np*i, Np*(i+1)):\n",
        "                tests += 1 # si pool positif, on les teste tous\n",
        "    if N%Np != 0: # s'il reste des gens à la fin\n",
        "        lasts = gens[Np*(N//Np):]\n",
        "        tests += 1\n",
        "        if len(lasts) > 1:\n",
        "            if max(lasts) == 1: # on fait un pool avec tous ces gens\n",
        "                tests += len(lasts)\n",
        "    return(100*tests/len(gens))\n",
        "\n",
        "res = round(melange_groupe(Np1, gens1, gens2),2)\n",
        "print(res)\n",
        "print('Lecture : on peut tester 100 personnes en effectuant seulement {} tests en moyenne'.format(res))"
      ],
      "execution_count": 0,
      "outputs": [
        {
          "output_type": "stream",
          "text": [
            "22.66\n",
            "Lecture : on peut tester 100 personnes en effectuant seulement 22.66 tests en moyenne\n"
          ],
          "name": "stdout"
        }
      ]
    },
    {
      "cell_type": "markdown",
      "metadata": {
        "id": "v-voa-ESWsgH",
        "colab_type": "text"
      },
      "source": [
        "### 2) Le pooling simple en séparant les individus de la population générale et des clusters"
      ]
    },
    {
      "cell_type": "code",
      "metadata": {
        "id": "ZVXuT77ZWsgI",
        "colab_type": "code",
        "outputId": "a0a30d10-8442-4dbd-b642-912b756aa08c",
        "colab": {
          "base_uri": "https://localhost:8080/",
          "height": 51
        }
      },
      "source": [
        "# Le nombre de tests pour la population générale :\n",
        "def pop_gen(Np, p1, gens1, N1):\n",
        "    tests = 0\n",
        "    N = len(gens1)\n",
        "    for i in range(N1//Np):\n",
        "        tests += 1\n",
        "        if max(gens1[Np*i:Np*(i+1)]) == 1: # on teste tous individus rassemblés\n",
        "            for i in range(Np*i, Np*(i+1)):\n",
        "                tests += 1 # si pool positif, on les teste tous\n",
        "    if N%Np != 0: # s'il reste des gens à la fin\n",
        "        lasts = gens1[Np*(N//Np):]\n",
        "        tests += 1\n",
        "        if len(lasts)>1:\n",
        "            if max(lasts) == 1: # on fait un pool avec tous ces gens\n",
        "                tests += len(lasts)\n",
        "    return(tests)\n",
        "\n",
        "# Le nombre de tests pour le cluster :\n",
        "def clus(Np, p2, gens2, N2):\n",
        "    tests = 0\n",
        "    N = len(gens2)\n",
        "    for i in range(N2//Np):\n",
        "        tests += 1\n",
        "        if max(gens2[Np*i:Np*(i+1)]) == 1: # on teste tous individus rassemblés\n",
        "            for i in range(Np*i,Np*(i+1)):\n",
        "                tests += 1 # si pool positif, on les teste tous\n",
        "    if N%Np != 0: # s'il reste des gens à la fin\n",
        "        lasts = gens2[Np*(N//Np):]\n",
        "        tests += 1\n",
        "        if len(lasts) > 1:\n",
        "            if max(lasts) == 1: # on fait un pool avec tous ces gens\n",
        "                tests += len(lasts)\n",
        "    return(tests)\n",
        "\n",
        "# Le nombre de test en tout\n",
        "test_sep = pop_gen(Np1, p1, gens1, N1) + clus(Np2, p2, gens2, N2)\n",
        "res = round((100*test_sep)/len(gens1+gens2),2)\n",
        "print(res)\n",
        "print('Lecture : on peut tester 100 personnes en effectuant seulement {} tests en moyenne'.format(res))"
      ],
      "execution_count": 0,
      "outputs": [
        {
          "output_type": "stream",
          "text": [
            "20.76\n",
            "Lecture : on peut tester 100 personnes en effectuant seulement 20.76 tests en moyenne\n"
          ],
          "name": "stdout"
        }
      ]
    },
    {
      "cell_type": "markdown",
      "metadata": {
        "id": "S6RLdFd6WsgK",
        "colab_type": "text"
      },
      "source": [
        "### 3) Résultats de la comparaison"
      ]
    },
    {
      "cell_type": "markdown",
      "metadata": {
        "id": "2qHphWArWsgL",
        "colab_type": "text"
      },
      "source": [
        "&nbsp;&nbsp;&nbsp;&nbsp;En effectuant plusieurs fois les deux programmes avec différents paramètres, on remarque qu'il est toujours préférable de tester les deux groupes séparément. \n",
        "La méthode séparée permet certes d'économiser des tests, mais la différence d'efficacité n'est pas très élevée, et  l'écart n'est en moyenne pas plus élevé que 3 points de pourcentage.\n",
        "\n",
        "&nbsp;&nbsp;&nbsp;&nbsp;Ce résultat s'avère logique. En effet, en testant séparément, on peut utiliser des tailles de pools optimales pour chacune des populations, et avoir ainsi un meilleur résultat. "
      ]
    },
    {
      "cell_type": "markdown",
      "metadata": {
        "id": "bXMDRyPbWsgL",
        "colab_type": "text"
      },
      "source": [
        "# IV] Prendre en compte les familles dans la conception des pools de tests"
      ]
    },
    {
      "cell_type": "markdown",
      "metadata": {
        "id": "p4gfZqC29uLH",
        "colab_type": "text"
      },
      "source": [
        "Pour modéliser le fait que les individus sont confinés en groupes fixes, on procède de la manière suivante: on effectue des groupes de taille aléatoire variant entre 1 et 5 dans la population totale, et on distingue 2 types de familles (*cocons*): les cocons sains, où chaque individu a une probabilité *ps* faible d'être malade, et les cocons contaminés, où cette probabilité est *pc*, bien plus proche de 1. On fait l'hypothèse qu'une fois le virus entré dans un ménage, il se répand rapidement entre ses habitants.\n"
      ]
    },
    {
      "cell_type": "markdown",
      "metadata": {
        "id": "ndhDtyVeWsgM",
        "colab_type": "text"
      },
      "source": [
        "### 1) Lister les familles"
      ]
    },
    {
      "cell_type": "code",
      "metadata": {
        "id": "ER5GVotnWsgM",
        "colab_type": "code",
        "outputId": "239aedf4-f9f1-471b-8fd2-cff1093373ce",
        "colab": {
          "base_uri": "https://localhost:8080/",
          "height": 34
        }
      },
      "source": [
        "# quelques réglages\n",
        "N = 100000 # nombre d'individus\n",
        "ps = 0.01 # taux de contamination dans les concons sains\n",
        "c = 0.02 # taux de cocons contaminés\n",
        "s = 1-c\n",
        "pc = 0.9 # taux de contamination dans les cocons contaminés\n",
        "p = c*pc + s*ps # taux global\n",
        "tests = 0\n",
        "sq = 10\n",
        "print('taux de contamination global:', round(p, 5))"
      ],
      "execution_count": 0,
      "outputs": [
        {
          "output_type": "stream",
          "text": [
            "taux de contamination global: 0.0278\n"
          ],
          "name": "stdout"
        }
      ]
    },
    {
      "cell_type": "markdown",
      "metadata": {
        "id": "GoHFw2JhWsgR",
        "colab_type": "text"
      },
      "source": [
        "Des fonctions annexes pour les listes de familles :\n"
      ]
    },
    {
      "cell_type": "code",
      "metadata": {
        "id": "i4aYYOdZWsgS",
        "colab_type": "code",
        "colab": {}
      },
      "source": [
        "def infs(gens):\n",
        "    return(sum([sum(i) for i in gens]))\n",
        "def long(gens):\n",
        "    return(sum([len(i) for i in gens]))\n",
        "\n",
        "def taux(gens):\n",
        "    return(infs(gens)/long(gens))\n",
        "\n",
        "def bettermax(L): # cherche s'il y a un 1 dans une des sous listes\n",
        "    a = True\n",
        "    N = len(L)\n",
        "    i = 0\n",
        "    while a and i < N:\n",
        "        if 1 in L[i]:\n",
        "            return(True) # on s'arrête dès le premier cas trouvé\n",
        "        i += 1\n",
        "    return(False)"
      ],
      "execution_count": 0,
      "outputs": []
    },
    {
      "cell_type": "code",
      "metadata": {
        "id": "lZxExJ7-Wsga",
        "colab_type": "code",
        "colab": {}
      },
      "source": [
        "def cocons(N=N, ps=ps, pc=pc, c=c): # on génère la liste des familles\n",
        "    g = 0\n",
        "    gens = []\n",
        "    while g < N:\n",
        "        k = rd.randint(1,5) # familles de taille aléatoire entre 1 et 5\n",
        "        g += k\n",
        "        a = rd.choices([0,1], [1-c,c])[0] # décide si une famille est contaminée ou non\n",
        "        if a == 1:\n",
        "            cocon = rd.choices([0,1], [1-pc, pc], k=k)\n",
        "        else:\n",
        "            cocon = rd.choices([0,1], [1-ps, ps], k=k)\n",
        "        gens.append(cocon)\n",
        "    return(gens)"
      ],
      "execution_count": 0,
      "outputs": []
    },
    {
      "cell_type": "markdown",
      "metadata": {
        "id": "W-MHQEfFWsge",
        "colab_type": "text"
      },
      "source": [
        "On teste la famille regroupée dans un seul *pool*, et si le résultat est positif, on teste tous les membres de la famille."
      ]
    },
    {
      "cell_type": "code",
      "metadata": {
        "id": "RdvjEg_yWsgf",
        "colab_type": "code",
        "outputId": "41fce54e-8ad2-4d67-ade1-3f74bfa9268e",
        "colab": {
          "base_uri": "https://localhost:8080/",
          "height": 34
        }
      },
      "source": [
        "def coconpooling(N=N, ps=ps, pc=pc, c=c):\n",
        "    gens = cocons(N, ps, pc, c)\n",
        "    tests = 0\n",
        "    for i in gens:\n",
        "        tests += 1\n",
        "        if 1 in i:\n",
        "            if len(i) > 1:\n",
        "                tests += len(i)\n",
        "    return(100*tests/long(gens))\n",
        "\n",
        "coconpooling()"
      ],
      "execution_count": 0,
      "outputs": [
        {
          "output_type": "execute_result",
          "data": {
            "text/plain": [
              "38.419"
            ]
          },
          "metadata": {
            "tags": []
          },
          "execution_count": 98
        }
      ]
    },
    {
      "cell_type": "markdown",
      "metadata": {
        "id": "XFlvjbnBWsgk",
        "colab_type": "text"
      },
      "source": [
        "On fait la même chose, mais en ayant rassemblé 3 familles avant"
      ]
    },
    {
      "cell_type": "code",
      "metadata": {
        "id": "g383en8EWsgl",
        "colab_type": "code",
        "outputId": "4380b866-5acf-4afc-a8a7-0d7f34b58e66",
        "colab": {
          "base_uri": "https://localhost:8080/",
          "height": 34
        }
      },
      "source": [
        "def cocongrouping(g, N=N, ps=ps, pc=pc, c=c):\n",
        "    p = c*pc + s*ps\n",
        "    gens = cocons(N, ps, pc, c)\n",
        "    tests = 0\n",
        "    f = len(gens)\n",
        "    for i in range(f//g):\n",
        "        tests += 1\n",
        "        if bettermax(gens[g*i:g*(i+1)]):\n",
        "            tests += long(gens[g*i:g*(i+1)])\n",
        "    if f%g != 0:\n",
        "        tests += 1\n",
        "        if bettermax(gens[f//g*g:]):\n",
        "            tests += long(gens[f//g*g:])\n",
        "    return(100*tests/long(gens))\n",
        "\n",
        "round(cocongrouping(3), 4)"
      ],
      "execution_count": 0,
      "outputs": [
        {
          "output_type": "execute_result",
          "data": {
            "text/plain": [
              "25.736"
            ]
          },
          "metadata": {
            "tags": []
          },
          "execution_count": 99
        }
      ]
    },
    {
      "cell_type": "markdown",
      "metadata": {
        "id": "gq1c5-mPWsgs",
        "colab_type": "text"
      },
      "source": [
        "### 2) Le square pooling adapté au familles"
      ]
    },
    {
      "cell_type": "markdown",
      "metadata": {
        "id": "B7Ut5RDFCWRJ",
        "colab_type": "text"
      },
      "source": [
        "On effectue ici du square pooling en remplaçant les individus par des familles entières."
      ]
    },
    {
      "cell_type": "code",
      "metadata": {
        "id": "8P25gpGcWsgs",
        "colab_type": "code",
        "outputId": "40a40655-49c0-4f50-f230-0312abf8a07e",
        "colab": {
          "base_uri": "https://localhost:8080/",
          "height": 51
        }
      },
      "source": [
        "def testmatsquare(gens=gens, sq=sq, tests=tests):\n",
        "    col = []\n",
        "    lin = []\n",
        "    for i in range(sq):\n",
        "        tests += 1\n",
        "        if bettermax(gens[i]): # on teste toute la ligne\n",
        "            lin.append(i)\n",
        "    if lin != []: # on continue que si y'a au moins un positif\n",
        "        for j in range(sq):\n",
        "            if bettermax(gens[:,j]): # on teste toute la colonne\n",
        "                col.append(j)\n",
        "    if len(lin) == 1: # si une seule ligne positive, on peut conclure\n",
        "        a = lin[0]\n",
        "        for j in col:\n",
        "            tests += len(gens[a,j])\n",
        "    elif len(col) == 1:# si une seule colonne positive, on peut conclure\n",
        "        b = col[0]\n",
        "        for i in lin:\n",
        "            tests += len(gens[i,b])\n",
        "    else:\n",
        "        possibles = []\n",
        "        for i in lin:\n",
        "            for j in col:\n",
        "                possibles.append((i,j))# on ajoute aux possibles les intersection\n",
        "        for i in possibles:\n",
        "            tests += len(i)\n",
        "    return(tests)\n",
        "\n",
        "def squarefam(sq, N=N):\n",
        "    gens = cocons(N, ps, pc, c)\n",
        "    N = len(gens)\n",
        "    Np = sq**2 # sq la taille du coté, Np la taille du pool\n",
        "    pools = int(N/Np)\n",
        "    tests = 0\n",
        "    for k in range(pools):\n",
        "        square = np.reshape(gens[Np*k:Np*(k+1)], (sq,sq)) # on fait une matrice carré sq*sq\n",
        "        t = testmatsquare(square, sq)\n",
        "        tests += t\n",
        "    if N%Np != 0: # s'il reste des gens\n",
        "        fin = gens[Np*pools:]\n",
        "        testsfin = coconpoolingannexe(fin, 10, p, fin) # on utilise l'annexe sur la fin\n",
        "        tests += testsfin\n",
        "    return(100*tests/long(gens))\n",
        "\n",
        "def coconpoolingannexe(fin, N=N, ps=ps, pc=pc, c=c): # fonction annexe pour faire du coconpooling dans l'autre\n",
        "    tests = 0\n",
        "    for i in fin:\n",
        "        tests += 1\n",
        "        if 1 in i:\n",
        "            if len(i)>1:\n",
        "                tests += len(i)\n",
        "    return(tests)\n",
        "\n",
        "res = round(squarefam(5),2)\n",
        "print(res)\n",
        "print('Lecture : on peut tester 100 personnes en effectuant seulement {} tests en moyenne'.format(res))"
      ],
      "execution_count": 0,
      "outputs": [
        {
          "output_type": "stream",
          "text": [
            "13.03\n",
            "Lecture : on peut tester 100 personnes en effectuant seulement 13.03 tests en moyenne\n"
          ],
          "name": "stdout"
        }
      ]
    },
    {
      "cell_type": "markdown",
      "metadata": {
        "id": "3eY8jZP6ZZgX",
        "colab_type": "text"
      },
      "source": [
        "# Conclusion"
      ]
    },
    {
      "cell_type": "markdown",
      "metadata": {
        "id": "i1oSrLGZPIlt",
        "colab_type": "text"
      },
      "source": [
        "&nbsp;&nbsp;&nbsp;&nbsp;En nous inspirant de la situation actuelle d’épidémie et des nouvelles problématiques qu’elle engendre, nous avons essayé de résoudre une question concrète en nous penchant sur les tests effectués. Nous avons montré qu’en mettant en place des méthodes de pooling et en utilisant les tailles de pools les plus adaptées possibles, le nombre de test pouvait être réduit. Ainsi, en adoptant la méthode la plus efficace, pour un taux de contamination et une taille de population donnés, toute la population peut être testée avec 10 fois moins de tests que si on testait chaque individu.\n",
        "\n",
        "&nbsp;&nbsp;&nbsp;&nbsp;Ces méthodes ont cependant des limites techniques. Dans les faits, les pools ne peuvent rassembler plus d'environ 30 échantillons, selon la méthode de test choisie. En effet, si trop d’échantillons sont regroupés, le test n’est plus assez sensible et risque de ne pas détecter une personne infectée. De plus, la gestion de méthodes comme le pooling en carré ou la méthode par dichotomie peut, en pratique, être difficile à mener. Il faut que le laboratoire suive très précisément les trajectoires de chaque échantillon, et ces méthodes demandent beaucoup de manipulations. En effet, chaque échantillon peut être utilisé plusieurs fois et doit être conservé un certain temps.\n",
        "\n",
        "&nbsp;&nbsp;&nbsp;&nbsp;Bien qu’elles ne soient pas parfaites, ces méthodes restent un atout dans la lutte contre les épidémies. Si ces méthodes étaient mises en place, elles permettraient de tester plus d’individus plus rapidement. A travers notre projet, nous voulions montrer que les débutants en programmation pouvaient être utiles, en évaluant virtuellement le nombre de tests nécessaires avant de l’appliquer aux individus."
      ]
    }
  ]
}